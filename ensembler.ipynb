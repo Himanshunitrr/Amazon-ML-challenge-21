{
 "cells": [
  {
   "cell_type": "code",
   "execution_count": 1,
   "id": "3e231651",
   "metadata": {
    "execution": {
     "iopub.execute_input": "2021-08-01T17:36:02.372744Z",
     "iopub.status.busy": "2021-08-01T17:36:02.370866Z",
     "iopub.status.idle": "2021-08-01T17:36:02.481827Z",
     "shell.execute_reply": "2021-08-01T17:36:02.482345Z",
     "shell.execute_reply.started": "2021-08-01T17:11:17.241083Z"
    },
    "papermill": {
     "duration": 0.122076,
     "end_time": "2021-08-01T17:36:02.482657",
     "exception": false,
     "start_time": "2021-08-01T17:36:02.360581",
     "status": "completed"
    },
    "tags": []
   },
   "outputs": [],
   "source": [
    "import pickle\n",
    "import pandas as pd\n",
    "file = open(\"../input/distillbert-tpu1/lable_map.pickle\",'rb')\n",
    "label_map = pickle.load(file)\n",
    "file.close()\n",
    "\n",
    "label_to_id = {}\n",
    "for key, value in label_map.items():\n",
    "    label_to_id[value] = key"
   ]
  },
  {
   "cell_type": "code",
   "execution_count": 2,
   "id": "47516418",
   "metadata": {
    "execution": {
     "iopub.execute_input": "2021-08-01T17:36:02.498356Z",
     "iopub.status.busy": "2021-08-01T17:36:02.497391Z",
     "iopub.status.idle": "2021-08-01T17:36:02.501144Z",
     "shell.execute_reply": "2021-08-01T17:36:02.501577Z",
     "shell.execute_reply.started": "2021-08-01T17:11:17.361376Z"
    },
    "papermill": {
     "duration": 0.012114,
     "end_time": "2021-08-01T17:36:02.501747",
     "exception": false,
     "start_time": "2021-08-01T17:36:02.489633",
     "status": "completed"
    },
    "tags": []
   },
   "outputs": [],
   "source": [
    "labels_distill = 0\n",
    "labels_albert = 0\n",
    "labels_bert = 0"
   ]
  },
  {
   "cell_type": "code",
   "execution_count": 3,
   "id": "9598fc76",
   "metadata": {
    "execution": {
     "iopub.execute_input": "2021-08-01T17:36:02.514847Z",
     "iopub.status.busy": "2021-08-01T17:36:02.513946Z",
     "iopub.status.idle": "2021-08-01T17:37:47.771417Z",
     "shell.execute_reply": "2021-08-01T17:37:47.770394Z",
     "shell.execute_reply.started": "2021-08-01T17:11:17.368870Z"
    },
    "papermill": {
     "duration": 105.265277,
     "end_time": "2021-08-01T17:37:47.771861",
     "exception": false,
     "start_time": "2021-08-01T17:36:02.506584",
     "status": "completed"
    },
    "tags": []
   },
   "outputs": [],
   "source": [
    "file = open(\"../input/distillbertbase-18000/logits_DistillBERTbase_18000.pickle\",'rb')\n",
    "labels_distill += 0.7*pickle.load(file).softmax(1)\n",
    "file.close()\n",
    "\n",
    "file = open(\"../input/k/theconfused1/albert-predict/albert_30000.pickle\",'rb')\n",
    "labels_albert += 0.7*pickle.load(file).softmax(1)\n",
    "file.close()\n",
    "\n",
    "file = open(\"../input/bert-predict/logits_bert_18000.pickle\",'rb')\n",
    "labels_bert += 0.7*pickle.load(file).softmax(1)\n",
    "file.close()\n",
    "\n",
    "file = open(\"../input/distill-bert-predict/logits_distill_bert_18000_256.pickle\",'rb')\n",
    "labels_distill256 = pickle.load(file).softmax(1)\n",
    "file.close()\n",
    "\n",
    "file = open(\"../input/k/gktejus/distill-bert-predict/logits_distill_bert_focal_15000_128.pickle\",'rb')\n",
    "labels_distillfocal = pickle.load(file).softmax(1)\n",
    "file.close()"
   ]
  },
  {
   "cell_type": "code",
   "execution_count": 4,
   "id": "e39944ed",
   "metadata": {
    "execution": {
     "iopub.execute_input": "2021-08-01T17:37:47.791950Z",
     "iopub.status.busy": "2021-08-01T17:37:47.791195Z",
     "iopub.status.idle": "2021-08-01T17:38:40.486885Z",
     "shell.execute_reply": "2021-08-01T17:38:40.487394Z",
     "shell.execute_reply.started": "2021-08-01T17:13:08.513036Z"
    },
    "papermill": {
     "duration": 52.708172,
     "end_time": "2021-08-01T17:38:40.487605",
     "exception": false,
     "start_time": "2021-08-01T17:37:47.779433",
     "status": "completed"
    },
    "tags": []
   },
   "outputs": [],
   "source": [
    "file = open(\"../input/distillbertbase-18000/logits_DistillBERTbase_18000_no_desc.pickle\",'rb')\n",
    "labels_distill += 0.3*pickle.load(file).softmax(1)\n",
    "file.close()\n",
    "\n",
    "file = open(\"../input/k/theconfused1/albert-predict/albert_30000_no_desc.pickle\",'rb')\n",
    "labels_albert += 0.3*pickle.load(file).softmax(1)\n",
    "file.close()\n",
    "\n",
    "file = open(\"../input/bert-predict/logits_bert_18000_no_desc.pickle\",'rb')\n",
    "labels_bert += 0.3*pickle.load(file).softmax(1)\n",
    "file.close()"
   ]
  },
  {
   "cell_type": "code",
   "execution_count": 5,
   "id": "134c5fd6",
   "metadata": {
    "execution": {
     "iopub.execute_input": "2021-08-01T17:38:40.501164Z",
     "iopub.status.busy": "2021-08-01T17:38:40.500492Z",
     "iopub.status.idle": "2021-08-01T17:39:38.417601Z",
     "shell.execute_reply": "2021-08-01T17:39:38.416851Z",
     "shell.execute_reply.started": "2021-08-01T17:14:15.753422Z"
    },
    "papermill": {
     "duration": 57.924989,
     "end_time": "2021-08-01T17:39:38.417775",
     "exception": false,
     "start_time": "2021-08-01T17:38:40.492786",
     "status": "completed"
    },
    "tags": []
   },
   "outputs": [],
   "source": [
    "file = open(\"../input/distillbertbase-18000/logits_DistillBERTbase_18000_no_bull.pickle\",'rb')\n",
    "labels_distill += 0.1*pickle.load(file).softmax(1)\n",
    "file.close()\n",
    "\n",
    "file = open(\"../input/k/theconfused1/albert-predict/albert_30000_no_bullet.pickle\",'rb')\n",
    "labels_albert += 0.1*pickle.load(file).softmax(1)\n",
    "file.close()\n",
    "\n",
    "file = open(\"../input/bert-predict/logits_bert_18000_no_bullet.pickle\",'rb')\n",
    "labels_bert += 0.1*pickle.load(file).softmax(1)\n",
    "file.close()"
   ]
  },
  {
   "cell_type": "code",
   "execution_count": 6,
   "id": "96990918",
   "metadata": {
    "execution": {
     "iopub.execute_input": "2021-08-01T17:39:38.435778Z",
     "iopub.status.busy": "2021-08-01T17:39:38.434613Z",
     "iopub.status.idle": "2021-08-01T17:39:45.098440Z",
     "shell.execute_reply": "2021-08-01T17:39:45.098903Z",
     "shell.execute_reply.started": "2021-08-01T13:33:50.917908Z"
    },
    "papermill": {
     "duration": 6.675829,
     "end_time": "2021-08-01T17:39:45.099085",
     "exception": false,
     "start_time": "2021-08-01T17:39:38.423256",
     "status": "completed"
    },
    "tags": []
   },
   "outputs": [
    {
     "data": {
      "text/html": [
       "<div>\n",
       "<style scoped>\n",
       "    .dataframe tbody tr th:only-of-type {\n",
       "        vertical-align: middle;\n",
       "    }\n",
       "\n",
       "    .dataframe tbody tr th {\n",
       "        vertical-align: top;\n",
       "    }\n",
       "\n",
       "    .dataframe thead th {\n",
       "        text-align: right;\n",
       "    }\n",
       "</style>\n",
       "<table border=\"1\" class=\"dataframe\">\n",
       "  <thead>\n",
       "    <tr style=\"text-align: right;\">\n",
       "      <th></th>\n",
       "      <th>PRODUCT_ID</th>\n",
       "      <th>BROWSE_NODE_ID</th>\n",
       "    </tr>\n",
       "  </thead>\n",
       "  <tbody>\n",
       "    <tr>\n",
       "      <th>0</th>\n",
       "      <td>1</td>\n",
       "      <td>1140</td>\n",
       "    </tr>\n",
       "    <tr>\n",
       "      <th>1</th>\n",
       "      <td>2</td>\n",
       "      <td>3329</td>\n",
       "    </tr>\n",
       "    <tr>\n",
       "      <th>2</th>\n",
       "      <td>3</td>\n",
       "      <td>113</td>\n",
       "    </tr>\n",
       "    <tr>\n",
       "      <th>3</th>\n",
       "      <td>4</td>\n",
       "      <td>125</td>\n",
       "    </tr>\n",
       "    <tr>\n",
       "      <th>4</th>\n",
       "      <td>5</td>\n",
       "      <td>8915</td>\n",
       "    </tr>\n",
       "  </tbody>\n",
       "</table>\n",
       "</div>"
      ],
      "text/plain": [
       "   PRODUCT_ID  BROWSE_NODE_ID\n",
       "0           1            1140\n",
       "1           2            3329\n",
       "2           3             113\n",
       "3           4             125\n",
       "4           5            8915"
      ]
     },
     "execution_count": 6,
     "metadata": {},
     "output_type": "execute_result"
    }
   ],
   "source": [
    "import numpy as np\n",
    "\n",
    "labels = 0.3*labels_distill+0.6*labels_albert+0.2*labels_bert+0.2*labels_distill256+0.4*labels_distillfocal\n",
    "\n",
    "data_dict = {\n",
    "    \"PRODUCT_ID\": range(1, 110776),\n",
    "    \"BROWSE_NODE_ID\": labels.argmax(1)\n",
    "}\n",
    "submit = pd.DataFrame.from_dict(data_dict)\n",
    "submit[\"BROWSE_NODE_ID\"] = submit[\"BROWSE_NODE_ID\"].apply(lambda x: label_to_id[x])\n",
    "submit.to_csv(\"Ensemble_FINAL.csv\", index=False)\n",
    "submit.head()"
   ]
  }
 ],
 "metadata": {
  "kernelspec": {
   "display_name": "Python 3",
   "language": "python",
   "name": "python3"
  },
  "language_info": {
   "codemirror_mode": {
    "name": "ipython",
    "version": 3
   },
   "file_extension": ".py",
   "mimetype": "text/x-python",
   "name": "python",
   "nbconvert_exporter": "python",
   "pygments_lexer": "ipython3",
   "version": "3.7.10"
  },
  "papermill": {
   "default_parameters": {},
   "duration": 231.642691,
   "end_time": "2021-08-01T17:39:46.417233",
   "environment_variables": {},
   "exception": null,
   "input_path": "__notebook__.ipynb",
   "output_path": "__notebook__.ipynb",
   "parameters": {},
   "start_time": "2021-08-01T17:35:54.774542",
   "version": "2.3.3"
  }
 },
 "nbformat": 4,
 "nbformat_minor": 5
}
